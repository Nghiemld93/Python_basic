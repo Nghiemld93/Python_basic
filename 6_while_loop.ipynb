{
 "cells": [
  {
   "cell_type": "markdown",
   "metadata": {},
   "source": [
    "while condition:\n",
    "    <if condition is True>\n",
    "    statements//////\n",
    "    <if condition is False => finish while loop>"
   ]
  },
  {
   "cell_type": "code",
   "execution_count": 7,
   "metadata": {},
   "outputs": [
    {
     "name": "stdout",
     "output_type": "stream",
     "text": [
      "0 1 2 3 4 5 "
     ]
    }
   ],
   "source": [
    "# Create loop while to perform program overtime.\n",
    "def print_list_n(n):\n",
    "    i=0\n",
    "    while i<=5:\n",
    "        \n",
    "        print(i, end=\" \")\n",
    "        i+=1\n",
    "    #return i\n",
    "\n",
    "n=print_list_n(10)"
   ]
  }
 ],
 "metadata": {
  "kernelspec": {
   "display_name": "GCN_Ex1",
   "language": "python",
   "name": "python3"
  },
  "language_info": {
   "codemirror_mode": {
    "name": "ipython",
    "version": 3
   },
   "file_extension": ".py",
   "mimetype": "text/x-python",
   "name": "python",
   "nbconvert_exporter": "python",
   "pygments_lexer": "ipython3",
   "version": "3.10.0"
  }
 },
 "nbformat": 4,
 "nbformat_minor": 2
}
