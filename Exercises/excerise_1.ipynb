{
 "cells": [
  {
   "cell_type": "code",
   "execution_count": 10,
   "metadata": {},
   "outputs": [
    {
     "name": "stdout",
     "output_type": "stream",
     "text": [
      "1.5\n",
      "1\n",
      "3\n"
     ]
    }
   ],
   "source": [
    "# Operator Emxample\n",
    "n1=9\n",
    "n2=6\n",
    "\n",
    "# calculus operator\n",
    "print(n1/n2)       # Chi lấy thương        \n",
    "print(n1//n2)       # Chia lấy phần nguyên \n",
    "print(n1%n2)        # Chia lấy phần dư \n",
    "\n",
    "# boolen operator \n",
    "n5=n1==n2\n",
    "n6=n1>=n2\n"
   ]
  },
  {
   "cell_type": "code",
   "execution_count": 8,
   "metadata": {},
   "outputs": [],
   "source": [
    "import math\n",
    "\n",
    "n3=math.fabs(-5.98989) \n",
    "n4=math.floor(n3)\n"
   ]
  }
 ],
 "metadata": {
  "kernelspec": {
   "display_name": "GCN_Ex1",
   "language": "python",
   "name": "python3"
  },
  "language_info": {
   "codemirror_mode": {
    "name": "ipython",
    "version": 3
   },
   "file_extension": ".py",
   "mimetype": "text/x-python",
   "name": "python",
   "nbconvert_exporter": "python",
   "pygments_lexer": "ipython3",
   "version": "3.10.0"
  }
 },
 "nbformat": 4,
 "nbformat_minor": 2
}
