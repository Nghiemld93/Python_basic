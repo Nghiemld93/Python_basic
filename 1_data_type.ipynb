{
 "cells": [
  {
   "cell_type": "code",
   "execution_count": 20,
   "metadata": {},
   "outputs": [],
   "source": [
    "import math"
   ]
  },
  {
   "cell_type": "code",
   "execution_count": null,
   "metadata": {},
   "outputs": [],
   "source": [
    "#.......... Number: int, float, complex, decimal...........\n",
    "\n",
    "#interger (int)\n",
    "a= 10\n",
    "print(type(a))      # check data_type\n",
    "print(id(a))        # check saved id of variable\n",
    "\n",
    "#Floating-Point Number (float)\n",
    "a=10.5456646\n",
    "b=4/5\n",
    "c=4**0.5\n",
    "d=math.sqrt(5)\n",
    "print(type(a) , type(b), type (c) ,type(d) , sep= \"\\n\",)\n",
    "\n",
    "\n",
    "#complex (complext)\n",
    "z=2+3j\n",
    "print(type(z))\n",
    "\n",
    "#Decimal Numbers ('decimal')\n",
    "\n",
    "from decimal import Decimal\n",
    "x = Decimal('0.1')\n",
    "print(x)\n",
    "\n",
    "#Fractions ('fractions')\n",
    "from fractions import Fraction\n",
    "y =Fraction(3,4)\n",
    "print(y)\n"
   ]
  },
  {
   "cell_type": "code",
   "execution_count": 56,
   "metadata": {},
   "outputs": [
    {
     "name": "stdout",
     "output_type": "stream",
     "text": [
      "<class 'str'>\n",
      "e\n",
      "llo world\n",
      "Hello \n",
      "11\n",
      "H e l l o   w o r l d  \n",
      "H e l l o   w o r l d  \n",
      "llo wo\n"
     ]
    }
   ],
   "source": [
    "# String\n",
    "Name = 'Hello world'\n",
    "print (type(Name))\n",
    "print(Name[1])\n",
    "print (Name[2:])\n",
    "print (Name[:6])\n",
    "print(len(Name))\n",
    "\n",
    "for character in Name:\n",
    "    print(character, end=\" \")\n",
    "   \n",
    "print(\" \")\n",
    "\n",
    "for character_1 in range(len(Name)):\n",
    "    print(Name[character_1], end=\" \")\n",
    "\n",
    "print(\" \")\n",
    "atpos=Name.find('e')\n",
    "sppos=Name.find('r')\n",
    "print(Name[atpos+1:sppos])"
   ]
  }
 ],
 "metadata": {
  "kernelspec": {
   "display_name": "Python 3",
   "language": "python",
   "name": "python3"
  },
  "language_info": {
   "codemirror_mode": {
    "name": "ipython",
    "version": 3
   },
   "file_extension": ".py",
   "mimetype": "text/x-python",
   "name": "python",
   "nbconvert_exporter": "python",
   "pygments_lexer": "ipython3",
   "version": "3.10.0"
  }
 },
 "nbformat": 4,
 "nbformat_minor": 2
}
