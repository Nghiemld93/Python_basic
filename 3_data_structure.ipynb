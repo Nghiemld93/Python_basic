{
 "cells": [
  {
   "cell_type": "code",
   "execution_count": 7,
   "metadata": {},
   "outputs": [],
   "source": [
    "#List Structure\n",
    "\n",
    "#==========>Create a list<==============#\n",
    "#M1\n",
    "my_list_1= [1,2,3,4,'a', 'b', 'c']\n",
    "#M2\n",
    "my_string = \"hello\"\n",
    "list_from_string = list(my_string)\n",
    "#M3\n",
    "numbers=list(range(1,6))\n",
    "#M4\n",
    "repeated_list = [0] * 5\n",
    "\n"
   ]
  }
 ],
 "metadata": {
  "kernelspec": {
   "display_name": "GCN_Ex1",
   "language": "python",
   "name": "python3"
  },
  "language_info": {
   "codemirror_mode": {
    "name": "ipython",
    "version": 3
   },
   "file_extension": ".py",
   "mimetype": "text/x-python",
   "name": "python",
   "nbconvert_exporter": "python",
   "pygments_lexer": "ipython3",
   "version": "3.10.0"
  }
 },
 "nbformat": 4,
 "nbformat_minor": 2
}
