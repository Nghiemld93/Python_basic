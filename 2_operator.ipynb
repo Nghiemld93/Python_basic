{
 "cells": [
  {
   "cell_type": "code",
   "execution_count": 1,
   "metadata": {},
   "outputs": [],
   "source": [
    "#Arithmetic Operators\n",
    "n1=9\n",
    "n2=4\n",
    "\n",
    "n3=n1+n2\n",
    "n4=n1-n2\n",
    "n5=n1*n2\n",
    "n6=n1/n2\n",
    "n7=n1//n2\n",
    "n8=n1%n2"
   ]
  },
  {
   "cell_type": "code",
   "execution_count": 2,
   "metadata": {},
   "outputs": [],
   "source": [
    "# Comparison Operator:\n",
    "\n",
    "n9 = n1==n2\n",
    "n10 = n1!=n2\n",
    "n11 = n1>n2\n",
    "n12 = n1<n2\n",
    "n13 = n1>=n2\n",
    "n14 =n1<=n2"
   ]
  },
  {
   "cell_type": "code",
   "execution_count": 4,
   "metadata": {},
   "outputs": [],
   "source": [
    "#Logical Operators:\n",
    "m1 , m2 , m3 , m4 = 4 ,6, 11, 8\n",
    "m5 = m1>m2 and m3 >m4\n",
    "m6 = m4>m3 or  m1 > m3\n",
    "m7 = not m4>m3"
   ]
  },
  {
   "cell_type": "code",
   "execution_count": null,
   "metadata": {},
   "outputs": [],
   "source": [
    "# Assignment Operators: = ; += ; -= ; *= ; /= ; //= ; %= ; **= ;\n",
    "\n",
    "\n",
    " "
   ]
  },
  {
   "cell_type": "code",
   "execution_count": 7,
   "metadata": {},
   "outputs": [],
   "source": [
    "# identify Operators: is ; is not\n",
    "ck1=m1 is m2\n",
    "ck2= m2 is not m3"
   ]
  },
  {
   "cell_type": "code",
   "execution_count": null,
   "metadata": {},
   "outputs": [],
   "source": [
    "#Membership operators: in ; not in\n",
    "    "
   ]
  },
  {
   "cell_type": "code",
   "execution_count": null,
   "metadata": {},
   "outputs": [],
   "source": [
    "#Bitwise Operators: & ; | ; ^ ; ~ ; << ; >>\n",
    "\n",
    "\n"
   ]
  }
 ],
 "metadata": {
  "kernelspec": {
   "display_name": "GCN_Ex1",
   "language": "python",
   "name": "python3"
  },
  "language_info": {
   "codemirror_mode": {
    "name": "ipython",
    "version": 3
   },
   "file_extension": ".py",
   "mimetype": "text/x-python",
   "name": "python",
   "nbconvert_exporter": "python",
   "pygments_lexer": "ipython3",
   "version": "3.10.0"
  }
 },
 "nbformat": 4,
 "nbformat_minor": 2
}
